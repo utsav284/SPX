{
  "nbformat": 4,
  "nbformat_minor": 0,
  "metadata": {
    "colab": {
      "name": "spx.ipynb",
      "provenance": [],
      "collapsed_sections": []
    },
    "kernelspec": {
      "name": "python3",
      "display_name": "Python 3"
    },
    "language_info": {
      "name": "python"
    }
  },
  "cells": [
    {
      "cell_type": "code",
      "metadata": {
        "colab": {
          "base_uri": "https://localhost:8080/"
        },
        "id": "J5mks1Iw52ET",
        "outputId": "5143737b-491d-4ce4-db5b-f4b919303ee1"
      },
      "source": [
        "import pandas as pd\n",
        "import seaborn as sns\n",
        "import matplotlib.pyplot as plt\n",
        "import numpy as np\n",
        "\n",
        "spx = pd.read_excel(\"SPX_train_0.xlsx\")\n",
        "spx[\"Returns\"].value_counts()\n"
      ],
      "execution_count": null,
      "outputs": [
        {
          "output_type": "execute_result",
          "data": {
            "text/plain": [
              "1    516\n",
              "0    383\n",
              "Name: Returns, dtype: int64"
            ]
          },
          "metadata": {},
          "execution_count": 1
        }
      ]
    },
    {
      "cell_type": "markdown",
      "metadata": {
        "id": "DonbSkGSHk5b"
      },
      "source": [
        "# New Section"
      ]
    },
    {
      "cell_type": "code",
      "metadata": {
        "colab": {
          "base_uri": "https://localhost:8080/",
          "height": 204
        },
        "id": "ziOvAtsM9HKo",
        "outputId": "4e36f2b7-ea6f-41c9-a98e-4fd6f0ff22af"
      },
      "source": [
        "spx.head()"
      ],
      "execution_count": null,
      "outputs": [
        {
          "output_type": "execute_result",
          "data": {
            "text/html": [
              "<div>\n",
              "<style scoped>\n",
              "    .dataframe tbody tr th:only-of-type {\n",
              "        vertical-align: middle;\n",
              "    }\n",
              "\n",
              "    .dataframe tbody tr th {\n",
              "        vertical-align: top;\n",
              "    }\n",
              "\n",
              "    .dataframe thead th {\n",
              "        text-align: right;\n",
              "    }\n",
              "</style>\n",
              "<table border=\"1\" class=\"dataframe\">\n",
              "  <thead>\n",
              "    <tr style=\"text-align: right;\">\n",
              "      <th></th>\n",
              "      <th>Time</th>\n",
              "      <th>Returns</th>\n",
              "      <th>dp</th>\n",
              "      <th>dy</th>\n",
              "      <th>ep</th>\n",
              "      <th>de</th>\n",
              "      <th>svar</th>\n",
              "      <th>bm</th>\n",
              "      <th>ntis</th>\n",
              "      <th>tbl</th>\n",
              "      <th>lty</th>\n",
              "      <th>ltr</th>\n",
              "      <th>tms</th>\n",
              "      <th>dfy</th>\n",
              "      <th>dfr</th>\n",
              "      <th>infl</th>\n",
              "    </tr>\n",
              "  </thead>\n",
              "  <tbody>\n",
              "    <tr>\n",
              "      <th>0</th>\n",
              "      <td>1945-01</td>\n",
              "      <td>1</td>\n",
              "      <td>-3.041609</td>\n",
              "      <td>-3.027403</td>\n",
              "      <td>-2.662340</td>\n",
              "      <td>-0.379269</td>\n",
              "      <td>0.000924</td>\n",
              "      <td>0.735342</td>\n",
              "      <td>0.016454</td>\n",
              "      <td>0.0038</td>\n",
              "      <td>0.0240</td>\n",
              "      <td>0.0127</td>\n",
              "      <td>0.0202</td>\n",
              "      <td>0.0077</td>\n",
              "      <td>-0.0051</td>\n",
              "      <td>0.000000</td>\n",
              "    </tr>\n",
              "    <tr>\n",
              "      <th>1</th>\n",
              "      <td>1945-02</td>\n",
              "      <td>0</td>\n",
              "      <td>-3.096132</td>\n",
              "      <td>-3.036338</td>\n",
              "      <td>-2.711553</td>\n",
              "      <td>-0.384579</td>\n",
              "      <td>0.000655</td>\n",
              "      <td>0.704489</td>\n",
              "      <td>0.014836</td>\n",
              "      <td>0.0038</td>\n",
              "      <td>0.0236</td>\n",
              "      <td>0.0077</td>\n",
              "      <td>0.0198</td>\n",
              "      <td>0.0076</td>\n",
              "      <td>-0.0031</td>\n",
              "      <td>0.000000</td>\n",
              "    </tr>\n",
              "    <tr>\n",
              "      <th>2</th>\n",
              "      <td>1945-03</td>\n",
              "      <td>1</td>\n",
              "      <td>-3.043790</td>\n",
              "      <td>-3.091042</td>\n",
              "      <td>-2.653829</td>\n",
              "      <td>-0.389961</td>\n",
              "      <td>0.001887</td>\n",
              "      <td>0.767883</td>\n",
              "      <td>0.015963</td>\n",
              "      <td>0.0038</td>\n",
              "      <td>0.0236</td>\n",
              "      <td>0.0021</td>\n",
              "      <td>0.0198</td>\n",
              "      <td>0.0076</td>\n",
              "      <td>-0.0003</td>\n",
              "      <td>0.000000</td>\n",
              "    </tr>\n",
              "    <tr>\n",
              "      <th>3</th>\n",
              "      <td>1945-04</td>\n",
              "      <td>1</td>\n",
              "      <td>-3.128109</td>\n",
              "      <td>-3.043790</td>\n",
              "      <td>-2.724389</td>\n",
              "      <td>-0.403720</td>\n",
              "      <td>0.001398</td>\n",
              "      <td>0.715063</td>\n",
              "      <td>0.015086</td>\n",
              "      <td>0.0038</td>\n",
              "      <td>0.0228</td>\n",
              "      <td>0.0160</td>\n",
              "      <td>0.0190</td>\n",
              "      <td>0.0075</td>\n",
              "      <td>-0.0142</td>\n",
              "      <td>0.000000</td>\n",
              "    </tr>\n",
              "    <tr>\n",
              "      <th>4</th>\n",
              "      <td>1945-05</td>\n",
              "      <td>0</td>\n",
              "      <td>-3.139500</td>\n",
              "      <td>-3.128109</td>\n",
              "      <td>-2.722106</td>\n",
              "      <td>-0.417394</td>\n",
              "      <td>0.000921</td>\n",
              "      <td>0.702911</td>\n",
              "      <td>0.019773</td>\n",
              "      <td>0.0038</td>\n",
              "      <td>0.0226</td>\n",
              "      <td>0.0056</td>\n",
              "      <td>0.0188</td>\n",
              "      <td>0.0070</td>\n",
              "      <td>-0.0067</td>\n",
              "      <td>0.005618</td>\n",
              "    </tr>\n",
              "  </tbody>\n",
              "</table>\n",
              "</div>"
            ],
            "text/plain": [
              "      Time  Returns        dp        dy  ...     tms     dfy     dfr      infl\n",
              "0  1945-01        1 -3.041609 -3.027403  ...  0.0202  0.0077 -0.0051  0.000000\n",
              "1  1945-02        0 -3.096132 -3.036338  ...  0.0198  0.0076 -0.0031  0.000000\n",
              "2  1945-03        1 -3.043790 -3.091042  ...  0.0198  0.0076 -0.0003  0.000000\n",
              "3  1945-04        1 -3.128109 -3.043790  ...  0.0190  0.0075 -0.0142  0.000000\n",
              "4  1945-05        0 -3.139500 -3.128109  ...  0.0188  0.0070 -0.0067  0.005618\n",
              "\n",
              "[5 rows x 16 columns]"
            ]
          },
          "metadata": {},
          "execution_count": 2
        }
      ]
    },
    {
      "cell_type": "code",
      "metadata": {
        "colab": {
          "base_uri": "https://localhost:8080/"
        },
        "id": "sGyO3gU-Fm-d",
        "outputId": "4a2186c2-221c-4684-f435-3cd9d47781b1"
      },
      "source": [
        "from sklearn.model_selection import train_test_split\n",
        "from sklearn import svm  \n",
        "import pickle\n",
        "from sklearn.metrics import classification_report, confusion_matrix\n",
        "from sklearn.preprocessing import MinMaxScaler\n",
        "\n",
        "minmax_scaler = MinMaxScaler()\n",
        "\n",
        "\n",
        "X = minmax_scaler.fit_transform(spx.loc[:,\"dp\":])\n",
        "y = spx.loc[:,\"Returns\"]\n",
        "\n",
        "\n",
        "X_train, X_test, y_train, y_test = train_test_split(X, y, test_size = 0.30)\n",
        "\n",
        "rbf_svc = svm.SVC(kernel='rbf')\n",
        "rbf_svc.fit(X_train, y_train)\n",
        "\n",
        "y_pred = rbf_svc.predict(X_test)\n",
        "print(y_test)\n",
        "print(X_test[0])\n",
        "print(y_pred)\n",
        "\n",
        "print(confusion_matrix(y_test,y_pred))\n",
        "print(classification_report(y_test,y_pred))\n",
        "\n",
        "pickle.dump(rbf_svc, open('model.pkl','wb'))"
      ],
      "execution_count": null,
      "outputs": [
        {
          "output_type": "stream",
          "name": "stdout",
          "text": [
            "293    0\n",
            "645    1\n",
            "272    0\n",
            "634    1\n",
            "742    1\n",
            "      ..\n",
            "142    1\n",
            "675    1\n",
            "577    1\n",
            "707    1\n",
            "613    1\n",
            "Name: Returns, Length: 270, dtype: int64\n",
            "[0.56221826 0.53091008 0.65954253 0.23649889 0.00960219 0.43854378\n",
            " 0.94478585 0.39472069 0.34874905 0.5054779  0.4195122  0.13071895\n",
            " 0.46495327 0.31608785]\n",
            "[0 1 1 1 1 1 0 1 1 1 1 1 1 1 1 1 1 1 1 0 1 1 1 1 1 1 1 1 1 1 1 1 1 1 1 0 1\n",
            " 1 1 1 0 1 1 0 1 1 0 1 0 1 1 1 1 1 1 0 1 1 1 1 1 1 0 0 1 1 1 1 1 0 1 1 1 1\n",
            " 0 1 1 0 1 1 1 1 1 1 1 1 1 1 0 1 1 1 1 0 1 1 1 1 1 1 1 0 1 1 1 1 1 1 1 1 1\n",
            " 1 1 1 1 0 1 0 1 1 0 1 1 1 1 1 1 1 0 1 1 1 1 1 1 1 1 0 0 1 1 1 1 1 0 1 1 1\n",
            " 0 1 0 1 1 1 1 1 1 1 1 1 0 1 1 1 1 1 1 1 1 1 0 1 0 1 1 1 1 1 0 1 1 1 0 1 0\n",
            " 1 1 1 1 1 1 1 0 1 0 1 1 1 1 1 1 1 1 1 1 1 1 0 1 1 0 0 1 1 1 1 1 0 1 1 1 0\n",
            " 1 1 1 1 1 1 0 1 1 1 1 1 0 1 1 0 0 1 1 1 0 1 1 1 1 0 1 1 1 1 1 1 1 1 0 1 1\n",
            " 1 1 1 1 1 1 1 0 1 1 1]\n",
            "[[ 29  79]\n",
            " [ 18 144]]\n",
            "              precision    recall  f1-score   support\n",
            "\n",
            "           0       0.62      0.27      0.37       108\n",
            "           1       0.65      0.89      0.75       162\n",
            "\n",
            "    accuracy                           0.64       270\n",
            "   macro avg       0.63      0.58      0.56       270\n",
            "weighted avg       0.63      0.64      0.60       270\n",
            "\n"
          ]
        }
      ]
    }
  ]
}